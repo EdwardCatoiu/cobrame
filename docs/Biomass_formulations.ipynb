{
 "cells": [
  {
   "cell_type": "markdown",
   "metadata": {},
   "source": [
    "## Biomass Dilution formulation (unit check)"
   ]
  },
  {
   "cell_type": "markdown",
   "metadata": {},
   "source": [
    "$$\\sum{\\frac{v_i}{mass_i}} = \\mu$$\n",
    "\n",
    "$$mass = kDa [\\frac{g}{mmol}]$$\n",
    "\n",
    "$$v_i = \\frac{mmol}{g\\cdot hr}$$\n",
    "\n",
    "$$\\mu = hr^{-1}$$\n"
   ]
  }
 ],
 "metadata": {
  "kernelspec": {
   "display_name": "Python 2",
   "language": "python",
   "name": "python2"
  },
  "language_info": {
   "codemirror_mode": {
    "name": "ipython",
    "version": 2
   },
   "file_extension": ".py",
   "mimetype": "text/x-python",
   "name": "python",
   "nbconvert_exporter": "python",
   "pygments_lexer": "ipython2",
   "version": "2.7.6"
  }
 },
 "nbformat": 4,
 "nbformat_minor": 0
}
