{
 "cells": [
  {
   "cell_type": "markdown",
   "metadata": {},
   "source": [
    "#COBRAme Tutorial"
   ]
  },
  {
   "cell_type": "code",
   "execution_count": 1,
   "metadata": {
    "collapsed": false
   },
   "outputs": [],
   "source": [
    "import cobrame\n",
    "from cobrame.util import dogma\n",
    "import cobra\n",
    "import cobra.test\n",
    "from collections import defaultdict\n",
    "\n",
    "import warnings\n",
    "warnings.filterwarnings('ignore')"
   ]
  },
  {
   "cell_type": "markdown",
   "metadata": {},
   "source": [
    "## Adding metabolic reactions\n",
    "\n",
    "COBRAme is constructed entirely over COBRApy. This means that ME reactions will have all of the same properties, methods, and functions as a COBRApy reaction. However, one key difference is that, in order to facilliate the template nature of many E-gene reactions, reactions are constructed and their components are manipulated via the use of the ProcessData classes. These act as information vessels for holding the information assocatied with a cellular process in simple, standard datatypes such as dictionaries and strings. \n",
    "\n",
    "### Start with generic reaction a <=> b\n",
    "The below code creates metabolites 'a' and 'b' and adds them to the ME model. It then creates a StoichiometricData object which stores all of the stoichiometric information associated with the MetabolicReaction. This includes:\n",
    " - Reaction Stoichiometry\n",
    " - Lower and upper bound\n",
    " \n",
    "Only one StoichiometricData object should be created for both reversible and irreversible reactions"
   ]
  },
  {
   "cell_type": "code",
   "execution_count": 2,
   "metadata": {
    "collapsed": false
   },
   "outputs": [],
   "source": [
    "# create empty ME-model\n",
    "me = cobrame.MEmodel('test')\n",
    "ijo = cobra.test.create_test_model('ecoli')\n",
    "\n",
    "for met in ijo.metabolites:\n",
    "    me.add_metabolites(met)"
   ]
  },
  {
   "cell_type": "code",
   "execution_count": 3,
   "metadata": {
    "collapsed": false
   },
   "outputs": [],
   "source": [
    "# \"Translational capacity\" of organism\n",
    "me.global_info['kt'] =  4.5 #(in h-1)scott 2010, RNA-to-protein curve fit\n",
    "me.global_info['r0'] =  0.087 #scott 2010, RNA-to-protein curve fit\n",
    "me.global_info['k_deg'] =  0. #1.0/5. * 60.0  # 1/5 1/min 60 min/h # h-1\n",
    "\n",
    "# Molecular mass of RNA component of ribosome\n",
    "me.global_info['m_rr'] = 1700. # in kDa\n",
    "\n",
    "# Average molecular mass of an amino acid\n",
    "me.global_info['m_aa'] = 109. / 1000. #109. / 1000. # in kDa\n",
    "\n",
    "# Proportion of RNA that is rRNA\n",
    "me.global_info['f_rRNA'] = .86\n",
    "me.global_info['m_nt'] = 324. / 1000. # in kDa\n",
    "me.global_info['f_mRNA'] = .02\n",
    "\n",
    "# tRNA associated global information\n",
    "me.global_info['m_tRNA'] = 25000. / 1000. # in kDA\n",
    "me.global_info['f_tRNA'] = .12"
   ]
  },
  {
   "cell_type": "code",
   "execution_count": 4,
   "metadata": {
    "collapsed": false
   },
   "outputs": [],
   "source": [
    "# create and add metabolites a and b to model as with COBRApy\n",
    "a = cobrame.Component('a')\n",
    "b = cobrame.Component('b')\n",
    "me.add_metabolites([a,b])\n",
    "\n",
    "# unique to COBRAme, construct a stoichiometric data object with the reaction information\n",
    "data = cobrame.StoichiometricData('a_to_b', me)\n",
    "stoichiometry = {'a':-1, 'b': 1}\n",
    "data._stoichiometry = stoichiometry\n",
    "data.lower_bound = -1000\n",
    "data.upper_bound = 1000"
   ]
  },
  {
   "cell_type": "markdown",
   "metadata": {},
   "source": [
    "The StoichiometricData for this reversible reaction is then assigned to two different MetabolicReactions (Due to the enzyme dilution constraint, all enzyme catalyzed reactions must be reverisble; more on this later). The MetabolicReaction require:\n",
    " - The associated StoichiometricData\n",
    " - True for reverse reactions, False for farward reactions\n",
    " - Enzyme $K_{eff}$ for reaction (discussed later, dafault=65)\n",
    "\n",
    "These fields are then processed and the actual model reaction is created using the MetabolicReaction's update() function"
   ]
  },
  {
   "cell_type": "code",
   "execution_count": 5,
   "metadata": {
    "collapsed": false,
    "scrolled": true
   },
   "outputs": [
    {
     "name": "stdout",
     "output_type": "stream",
     "text": [
      "a --> b\n",
      "b --> a\n"
     ]
    }
   ],
   "source": [
    "# Create a forward ME Metabolic Reaction and associate the stoichiometric data to it\n",
    "rxn = cobrame.MetabolicReaction('a_to_b_FWD_complex_ab')\n",
    "me.add_reaction(rxn)\n",
    "rxn.stoichiometric_data = data\n",
    "rxn.reverse = False\n",
    "# Update\n",
    "rxn.update()\n",
    "\n",
    "# Create a reverse ME Metabolic Reaction and associate the stoichiometric data to it\n",
    "rxn = cobrame.MetabolicReaction('a_to_b_REV_complex_ab')\n",
    "me.add_reaction(rxn)\n",
    "rxn.stoichiometric_data = data\n",
    "rxn.reverse = True\n",
    "# Update\n",
    "rxn.update()\n",
    "\n",
    "\n",
    "print me.reactions.a_to_b_FWD_complex_ab.reaction\n",
    "print me.reactions.a_to_b_REV_complex_ab.reaction"
   ]
  },
  {
   "cell_type": "markdown",
   "metadata": {},
   "source": [
    "## Associate a_to_b forward and reverse reaction with a catalyzing enzyme\n",
    "### Create ComplexData for enzyme\n",
    "For COBRAme models, the reaction gene-protein-reaction rule (GPR) is replaced with a metabolite representing the synthesis of the enzyme(s) catalyzing a reaction. This metabolite is formed explicitly in a ME model by seperate reaction to transcribe the gene(s) and translate the protein(s) the compose the complex. These reactions will be added later.\n",
    "\n",
    "ComplexData objects contain:\n",
    " - Subunit stoichiometry\n",
    " - Modification dictionary (discussed later)\n",
    " - Translocation dictionary (discussed later)\n",
    " \n",
    "as well as a create_complex_formation() function to create the sythesis reaction following the naming conventions. It contains an update() function which incorporates changes in the ComplexData"
   ]
  },
  {
   "cell_type": "code",
   "execution_count": 6,
   "metadata": {
    "collapsed": false
   },
   "outputs": [
    {
     "name": "stdout",
     "output_type": "stream",
     "text": [
      "Created <TranslatedGene protein_a at 0x7f425ed8aed0> in <ComplexFormation formation_complex_ab at 0x7f425ed8a050>\n",
      "Created <TranslatedGene protein_b at 0x7f425ed8afd0> in <ComplexFormation formation_complex_ab at 0x7f425ed8a050>\n",
      "protein_a + protein_b --> complex_ab\n"
     ]
    }
   ],
   "source": [
    "data = cobrame.ComplexData('complex_ab', me)\n",
    "data.stoichiometry = {'protein_a': 1, 'protein_b': 1}\n",
    "data.create_complex_formation()\n",
    "print me.reactions.formation_complex_ab.reaction"
   ]
  },
  {
   "cell_type": "markdown",
   "metadata": {},
   "source": [
    "### Associate enzyme with MetabolicReaction"
   ]
  },
  {
   "cell_type": "markdown",
   "metadata": {},
   "source": [
    "The ComplexData object created in the previous cell can be incorporated into the MetabolicReaction using code below. Note: the update() function is required to apply the change."
   ]
  },
  {
   "cell_type": "code",
   "execution_count": 7,
   "metadata": {
    "collapsed": false,
    "scrolled": true
   },
   "outputs": [
    {
     "name": "stdout",
     "output_type": "stream",
     "text": [
      "a --> b\n",
      "a + 4.27350427350427e-6*mu complex_ab --> b\n",
      "b --> a\n",
      "b + 4.27350427350427e-6*mu complex_ab --> a\n"
     ]
    }
   ],
   "source": [
    "me.reactions.a_to_b_FWD_complex_ab.complex_data = data\n",
    "print me.reactions.a_to_b_FWD_complex_ab.reaction\n",
    "me.reactions.a_to_b_FWD_complex_ab.update()\n",
    "print me.reactions.a_to_b_FWD_complex_ab.reaction\n",
    "\n",
    "me.reactions.a_to_b_REV_complex_ab.complex_data = data\n",
    "print me.reactions.a_to_b_REV_complex_ab.reaction\n",
    "me.reactions.a_to_b_REV_complex_ab.update()\n",
    "print me.reactions.a_to_b_REV_complex_ab.reaction"
   ]
  },
  {
   "cell_type": "markdown",
   "metadata": {},
   "source": [
    "The coefficient for complex_ab is determined by the expression $$\\frac{\\mu}{k_{eff}}$$ which in its entirety represents the dilution of an enzyme following a cell doubling. The coupling constraint can be summarized as followed\n",
    "$$ \n",
    "\\begin{align}\n",
    "&v_{dilution,j} = \\mu \\sum_{i} \\left( \\frac{1}{k_{eff,i}} v_{usage,i} \\right), & \\forall j \\in Enzyme\n",
    "\\end{align}\n",
    "$$\n",
    "\n",
    "Where $v_{usage,i}$ is the flux through the metabolic reaction, $\\mu$ is the growth rate of the cell, and $k_{eff}$ is a kinetic parameter which conveys the productivity of the enzyme complex. Physically, it can be thought of as the number of reactions the enzyme can catalyze per cell division. \n",
    "\n",
    "\n",
    "By default the $k_{eff}$ for a MetabolicReaction is set to 65 but this can be changed using the code below."
   ]
  },
  {
   "cell_type": "code",
   "execution_count": 8,
   "metadata": {
    "collapsed": false,
    "scrolled": true
   },
   "outputs": [
    {
     "name": "stdout",
     "output_type": "stream",
     "text": [
      "a + 2.77777777777778e-7*mu complex_ab --> b\n",
      "b + 4.27350427350427e-6*mu complex_ab --> a\n"
     ]
    }
   ],
   "source": [
    "me.reactions.a_to_b_FWD_complex_ab.keff = 1000\n",
    "me.reactions.a_to_b_FWD_complex_ab.update()\n",
    "\n",
    "# The forward and reverse direction can have differing keffs\n",
    "print me.reactions.a_to_b_FWD_complex_ab.reaction\n",
    "print me.reactions.a_to_b_REV_complex_ab.reaction"
   ]
  },
  {
   "cell_type": "markdown",
   "metadata": {},
   "source": [
    "## Adding transcription and translation reactions\n",
    "Here we take advantage of an additional subclass of ProcessData, called a SubreactionData object. This class is used to lump together processeses that occur as a result of many individual reactions, including translation elongation, ribosome formation, tRNA charging, etc. Since each of these steps often involve an enzyme that requires its own dilution coupling, this process allows these processes to be lumped into one reaction while still enabling each subprocess to be modified.\n",
    "\n",
    "Below, we add the SubreactionData (excluding enzymes) for the addition of each amino acid using information from the E. coli codon table"
   ]
  },
  {
   "cell_type": "markdown",
   "metadata": {},
   "source": [
    "### Add in the TranslationData for protein_a and protein_b\n",
    "In order to add a TranslationData object to a ME model the user must additionally specifify the mRNA id and protein id of the translation reaction that will be added. This information as well as a nucleotide sequence is the only information required to add a translation reaction."
   ]
  },
  {
   "cell_type": "code",
   "execution_count": 9,
   "metadata": {
    "collapsed": false
   },
   "outputs": [],
   "source": [
    "data = cobrame.TranslationData('a', me, 'RNA_a', 'protein_a')\n",
    "data.nucleotide_sequence = \"ATG\" + \"TTT\" * 12 + \"TAT\" * 12 + \"ACG\" * 12 + \"GAT\" * 12 + \"AGT\" * 12 + \"TGA\""
   ]
  },
  {
   "cell_type": "markdown",
   "metadata": {},
   "source": [
    "### Add in the TranslationReaction for protein_a and protein_b\n",
    "By associating the TranslationReaction with its corresponding TranslationData object and running the update function, COBRAme will create a reaction reaction for the nucleotide sequence given based on the organisms codon table and prespecified translation machinery."
   ]
  },
  {
   "cell_type": "code",
   "execution_count": 10,
   "metadata": {
    "collapsed": false
   },
   "outputs": [],
   "source": [
    "sequence = \"ATG\" + \"TTT\" * 12 + \"TAT\" * 12 + \"ACG\" * 12 + \"GAT\" * 12 + \"AGT\" * 12 + \"TGA\"\n",
    "RNA_a = cobrame.TranscribedGene('RNA_a')\n",
    "me.add_metabolites(RNA_a)\n",
    "RNA_a.nucleotide_sequence = sequence"
   ]
  },
  {
   "cell_type": "code",
   "execution_count": 11,
   "metadata": {
    "collapsed": false
   },
   "outputs": [
    {
     "name": "stdout",
     "output_type": "stream",
     "text": [
      "0.000498399634202103*mu + 0.000195123456790123 RNA_a + 12 asp__L_c + met__L_c + 12 phe__L_c + 12 ser__L_c + 12 thr__L_c + 12 tyr__L_c --> protein_a + 7.500606 protein_biomass\n"
     ]
    }
   ],
   "source": [
    "rxn = cobrame.TranslationReaction('translation_a')\n",
    "rxn.translation_data = data\n",
    "me.add_reaction(rxn)\n",
    "rxn.update()\n",
    "print rxn.reaction"
   ]
  },
  {
   "cell_type": "markdown",
   "metadata": {},
   "source": [
    "This reaction also produces a small amount of the a $biomass$ metabolite (constraint). This term has a coefficient corresponding to the molecular weight (in $kDA$) of the protein being translated. This constraint will be implemented into a $v_{biomasss\\_dilution}$ reaction with the form: \n",
    "$$\\mu \\leq v_{biomass\\_dilution} \\leq \\mu $$\n",
    "\n",
    "This effectively is just a conservation of mass constraint saying that biomass must be diluted at the growth rate $\\mu$ \n",
    "\n",
    "The coefficient for RNA_a represents \n",
    "$$\n",
    "\\begin{align}\n",
    "& v_{dilution,j} \\geq \\frac{3}{\\kappa_{\\tau} c_{mRNA}} \\cdot (\\mu + \\kappa_{\\tau} r_0) v_{translation,j}  , & \\forall j \\in mRNA \\\\\n",
    "\\end{align}\n",
    "$$\n",
    "where:$\\dots$"
   ]
  },
  {
   "cell_type": "code",
   "execution_count": 12,
   "metadata": {
    "collapsed": false
   },
   "outputs": [],
   "source": [
    "data = cobrame.TranscriptionData('TU_a',me,RNA_products={'RNA_a'})\n",
    "data.nucleotide_sequence = sequence"
   ]
  },
  {
   "cell_type": "code",
   "execution_count": 13,
   "metadata": {
    "collapsed": false
   },
   "outputs": [
    {
     "name": "stdout",
     "output_type": "stream",
     "text": [
      "86 atp_c + 38 ctp_c + 12 gtp_c + 186 h2o_c + 50 utp_c --> RNA_a + 186 h_c + 186 ppi_c\n"
     ]
    }
   ],
   "source": [
    "rxn = cobrame.TranscriptionReaction('transcription_TU_a')\n",
    "rxn.transcription_data = data\n",
    "me.add_reaction(rxn)\n",
    "rxn.update()\n",
    "print rxn.reaction"
   ]
  },
  {
   "cell_type": "code",
   "execution_count": null,
   "metadata": {
    "collapsed": true
   },
   "outputs": [],
   "source": []
  }
 ],
 "metadata": {
  "kernelspec": {
   "display_name": "Python 2",
   "language": "python",
   "name": "python2"
  },
  "language_info": {
   "codemirror_mode": {
    "name": "ipython",
    "version": 2
   },
   "file_extension": ".py",
   "mimetype": "text/x-python",
   "name": "python",
   "nbconvert_exporter": "python",
   "pygments_lexer": "ipython2",
   "version": "2.7.6"
  }
 },
 "nbformat": 4,
 "nbformat_minor": 0
}
