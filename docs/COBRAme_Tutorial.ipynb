{
 "cells": [
  {
   "cell_type": "markdown",
   "metadata": {},
   "source": [
    "#COBRAme Reaction Buidling"
   ]
  },
  {
   "cell_type": "code",
   "execution_count": 1,
   "metadata": {
    "collapsed": false
   },
   "outputs": [],
   "source": [
    "import cobrame\n",
    "from cobrame.util import dogma, building\n",
    "import cobra\n",
    "import cobra.test\n",
    "from collections import defaultdict\n",
    "\n",
    "import warnings\n",
    "warnings.filterwarnings('ignore')"
   ]
  },
  {
   "cell_type": "markdown",
   "metadata": {},
   "source": [
    "## Overview\n",
    "\n",
    "COBRAme is constructed entirely over COBRApy. This means that ME reactions will have all of the same properties, methods, and functions as a COBRApy reaction. However, one key difference is that, in order to facilliate the template nature of many gene expression reactions, reactions are constructed and their components are manipulated via the use of the ProcessData classes. These act as information vessels for holding the information assocatied with a cellular process in simple, standard datatypes such as dictionaries and strings. \n",
    "\n",
    "-----\n",
    "\n",
    "This tutorial will go step-by-step through the process of creating the generic enzyme catalyzed reaction or metabolic reaction:\n",
    "$$ a \\rightarrow b $$\n",
    "that requires the formation of **complex\\_ab** in order to proceed\n",
    "\n",
    "-------\n",
    "\n",
    "In order for this reaction to carry flux in the model we will additionally need to add the corresponding:\n",
    "1. Complex formation reaction\n",
    "2. Translation reactions\n",
    "3. tRNA charging reactions\n",
    "4. Transcription reactions\n",
    "\n",
    "Once these are added we will add in synthesis of key macromolecular components (ribosome, Degradosome, etc.) and show how they are applied to their respective reactions with their coupling constraints."
   ]
  },
  {
   "cell_type": "markdown",
   "metadata": {},
   "source": [
    "## Initializing new ME-models\n",
    "\n",
    "When applying some constraints in the ME-model, metabolite properties are required. For instance, to calculate the total biomass produced by a particular reaction, the amino acid, nucleotide, etc. molecular weights are required.\n",
    "\n",
    "To enable these calculations, all metabolites from iJO1366, along with their metabolite attributes are added to the newly created ME-model."
   ]
  },
  {
   "cell_type": "code",
   "execution_count": 2,
   "metadata": {
    "collapsed": false
   },
   "outputs": [],
   "source": [
    "# create empty ME-model\n",
    "me = cobrame.MEmodel('test')\n",
    "ijo = cobra.test.create_test_model('ecoli')\n",
    "\n",
    "# Add all metabolites from iJO1366 to the new ME-model\n",
    "for met in ijo.metabolites:\n",
    "    me.add_metabolites(met)\n",
    "for rxn in ijo.reactions:\n",
    "    me.add_reaction(rxn)"
   ]
  },
  {
   "cell_type": "markdown",
   "metadata": {},
   "source": [
    "The ME-model contains a \"global_info\" attribute which stores information used to calculate coupling constraints, along with other functions. The specifics of each of these constraints will be discussed when they are implemented.\n",
    "\n",
    "*Note*: k_deg will initially be set to 0. We will apply RNA degradation later in the tutorial."
   ]
  },
  {
   "cell_type": "code",
   "execution_count": 3,
   "metadata": {
    "collapsed": false
   },
   "outputs": [],
   "source": [
    "# \"Translational capacity\" of organism\n",
    "me.global_info['kt'] =  4.5 #(in h-1)scott 2010, RNA-to-protein curve fit\n",
    "me.global_info['r0'] =  0.087 #scott 2010, RNA-to-protein curve fit\n",
    "me.global_info['k_deg'] =  0. #1.0/5. * 60.0  # 1/5 1/min 60 min/h # h-1\n",
    "\n",
    "# Molecular mass of RNA component of ribosome\n",
    "me.global_info['m_rr'] = 1700. # in kDa\n",
    "\n",
    "# Average molecular mass of an amino acid\n",
    "me.global_info['m_aa'] = 109. / 1000. #109. / 1000. # in kDa\n",
    "\n",
    "# Proportion of RNA that is rRNA\n",
    "me.global_info['f_rRNA'] = .86\n",
    "me.global_info['m_nt'] = 324. / 1000. # in kDa\n",
    "me.global_info['f_mRNA'] = .02\n",
    "\n",
    "# tRNA associated global information\n",
    "me.global_info['m_tRNA'] = 25000. / 1000. # in kDA\n",
    "me.global_info['f_tRNA'] = .12"
   ]
  },
  {
   "cell_type": "markdown",
   "metadata": {},
   "source": [
    "## Add Metabolic Reaction"
   ]
  },
  {
   "cell_type": "markdown",
   "metadata": {},
   "source": [
    "The general workflow for adding any reaction to a ME-model using COBRAme occurs in three steps:\n",
    "1. Create the ProcessData(s) associated with the reaction and populate them with the necessary information\n",
    "2. Create the MEReaction and link the appropriate ProcessData\n",
    "3. Execute the MEReaction's update method\n",
    "\n",
    "-------\n",
    "\n",
    "MetabolicReactions require, at a minimum, one corresponding StoichiometricData. StoichiometricData essentially holds the information contained in an M-model reaction. This includes the metabolite stoichiometry and the upper and lower bound of the reaction. As a best practice, StoichiometricData typically uses an ID equivalent to the M-model reaction ID.\n",
    "\n",
    "So first, we will create a StoichiometricData object to define the stoichiometry of the conversion of *a* to *b*"
   ]
  },
  {
   "cell_type": "markdown",
   "metadata": {},
   "source": [
    "The code below creates a StoichiometricData object which stores all of the stoichiometric information associated with the MetabolicReaction. This includes:\n",
    " - Reaction Stoichiometry\n",
    " - Lower and upper bound\n",
    " \n",
    "Only one StoichiometricData object should be created for both reversible and irreversible reactions"
   ]
  },
  {
   "cell_type": "code",
   "execution_count": 4,
   "metadata": {
    "collapsed": false
   },
   "outputs": [],
   "source": [
    "# unique to COBRAme, construct a stoichiometric data object with the reaction information\n",
    "data = cobrame.StoichiometricData('a_to_b', me)\n",
    "stoichiometry = {'a':-1, 'b': 1}\n",
    "data._stoichiometry = stoichiometry\n",
    "data.lower_bound = -1000\n",
    "data.upper_bound = 1000"
   ]
  },
  {
   "cell_type": "markdown",
   "metadata": {},
   "source": [
    "The StoichiometricData for this reversible reaction is then assigned to two different MetabolicReactions (Due to the enzyme dilution constraint, all enzyme catalyzed reactions must be reverisble; more on this later). The MetabolicReactions require:\n",
    " - The associated StoichiometricData\n",
    " - The *reverse* flag set to True for reverse reactions, False for forward reactions\n",
    " - Enzyme $K_{eff}$ for reaction (discussed later, dafault=65)\n",
    "\n",
    "These fields are then processed and the actual model reaction is created using the MetabolicReaction's update() function"
   ]
  },
  {
   "cell_type": "code",
   "execution_count": 5,
   "metadata": {
    "collapsed": false,
    "scrolled": true
   },
   "outputs": [
    {
     "name": "stdout",
     "output_type": "stream",
     "text": [
      "a --> b\n",
      "b --> a\n"
     ]
    }
   ],
   "source": [
    "# Create a forward ME Metabolic Reaction and associate the stoichiometric data to it\n",
    "rxn = cobrame.MetabolicReaction('a_to_b_FWD_complex_ab')\n",
    "me.add_reaction(rxn)\n",
    "rxn.stoichiometric_data = data\n",
    "rxn.reverse = False\n",
    "rxn.keff = 65.\n",
    "# Update\n",
    "rxn.update(verbose=False)\n",
    "\n",
    "# Create a reverse ME Metabolic Reaction and associate the stoichiometric data to it\n",
    "rxn = cobrame.MetabolicReaction('a_to_b_REV_complex_ab')\n",
    "me.add_reaction(rxn)\n",
    "rxn.stoichiometric_data = data\n",
    "rxn.reverse = True\n",
    "rxn.keff = 65.\n",
    "# Update\n",
    "rxn.update(verbose=False)\n",
    "\n",
    "\n",
    "print me.reactions.a_to_b_FWD_complex_ab.reaction\n",
    "print me.reactions.a_to_b_REV_complex_ab.reaction"
   ]
  },
  {
   "cell_type": "markdown",
   "metadata": {},
   "source": [
    "**Note**: the $k_{eff}$ is not included in the reaction since no complex has been associated to it yet"
   ]
  },
  {
   "cell_type": "markdown",
   "metadata": {},
   "source": [
    "## Associate a_to_b forward and reverse reaction with a catalyzing enzyme\n",
    "### Create ComplexData for enzyme\n",
    "For COBRAme models, the reaction gene-protein-reaction rule (GPR) is replaced with a metabolite representing the synthesis of the enzyme(s) catalyzing a reaction. This metabolite is formed explicitly in a ME model by seperate reaction to transcribe the gene(s) and translate the protein(s) the compose the complex. These reactions will be added later.\n",
    "\n",
    "ComplexData objects contain:\n",
    " - Subunit stoichiometry\n",
    " - Modification dictionary (discussed later)\n",
    " - Translocation dictionary (discussed later)"
   ]
  },
  {
   "cell_type": "code",
   "execution_count": 6,
   "metadata": {
    "collapsed": false
   },
   "outputs": [
    {
     "name": "stdout",
     "output_type": "stream",
     "text": [
      "protein_a + protein_b --> complex_ab\n"
     ]
    }
   ],
   "source": [
    "data = cobrame.ComplexData('complex_ab', me)\n",
    "data.stoichiometry = {'protein_a': 1, 'protein_b': 1}\n",
    "\n",
    "rxn = cobrame.ComplexFormation('formation_complex_ab')\n",
    "me.add_reaction(rxn)\n",
    "rxn.complex_data_id = data.id\n",
    "rxn._complex_id = data.id\n",
    "rxn.update(verbose=False)\n",
    "print me.reactions.formation_complex_ab.reaction"
   ]
  },
  {
   "cell_type": "markdown",
   "metadata": {},
   "source": [
    "Alternatively, ComplexData has a ```create_complex_formation()``` function to create the sythesis reaction following the naming conventions. It contains an ```update()``` function which incorporates changes in the ComplexData"
   ]
  },
  {
   "cell_type": "code",
   "execution_count": 7,
   "metadata": {
    "collapsed": false
   },
   "outputs": [
    {
     "name": "stdout",
     "output_type": "stream",
     "text": [
      "protein_a + protein_b --> complex_ba\n"
     ]
    }
   ],
   "source": [
    "data = cobrame.ComplexData('complex_ba', me)\n",
    "data.stoichiometry = {'protein_a': 1, 'protein_b': 1}\n",
    "data.create_complex_formation()\n",
    "print me.reactions.formation_complex_ba.reaction"
   ]
  },
  {
   "cell_type": "markdown",
   "metadata": {},
   "source": [
    "### Apply modification to complex formation reaction\n",
    "Many enzyme complexes in an ME-model require cofactors or prosthetic groups in order to properly function. Information about such processes are stored as ModificationData.\n",
    "\n",
    "For instance, we can add the modification of an iron-sulfur cluster, a common prosthetic group, by doing the following:"
   ]
  },
  {
   "cell_type": "code",
   "execution_count": 8,
   "metadata": {
    "collapsed": false
   },
   "outputs": [],
   "source": [
    "# Define the stoichiometry of the modification \n",
    "mod_data = cobrame.ModificationData('mod_2fe2s_c', me)\n",
    "mod_data.stoichiometry = {'2fe2s_c': -1}\n",
    "# this process can also be catalyzed by a chaperone\n",
    "mod_data.enzyme = 'complex_ba'\n",
    "mod_data.keff = 65.  # default value"
   ]
  },
  {
   "cell_type": "markdown",
   "metadata": {},
   "source": [
    "Associate modification to complex and ```update()``` its formation"
   ]
  },
  {
   "cell_type": "code",
   "execution_count": 9,
   "metadata": {
    "collapsed": false
   },
   "outputs": [
    {
     "name": "stdout",
     "output_type": "stream",
     "text": [
      "protein_a + protein_b --> complex_ab\n",
      "2fe2s_c + 4.27350427350427e-6*mu complex_ba + protein_a + protein_b --> 0.17582 biomass + complex_ab\n"
     ]
    }
   ],
   "source": [
    "complex_data = me.complex_data.complex_ab\n",
    "complex_data.modifications['mod_2fe2s_c'] = 1\n",
    "print me.reactions.formation_complex_ab.reaction\n",
    "me.reactions.formation_complex_ab.update()\n",
    "print me.reactions.formation_complex_ab.reaction"
   ]
  },
  {
   "cell_type": "markdown",
   "metadata": {},
   "source": [
    "### Associate enzyme with MetabolicReaction"
   ]
  },
  {
   "cell_type": "markdown",
   "metadata": {},
   "source": [
    "The ComplexData object created in the previous cell can be incorporated into the MetabolicReaction using code below. \n",
    "\n",
    "**Note**: the update() function is required to apply the change."
   ]
  },
  {
   "cell_type": "code",
   "execution_count": 10,
   "metadata": {
    "collapsed": false,
    "scrolled": true
   },
   "outputs": [
    {
     "name": "stdout",
     "output_type": "stream",
     "text": [
      "a --> b\n",
      "a + 4.27350427350427e-6*mu complex_ba --> b \n",
      "\n",
      "b --> a\n",
      "b + 4.27350427350427e-6*mu complex_ba --> a\n"
     ]
    }
   ],
   "source": [
    "me.reactions.a_to_b_FWD_complex_ab.complex_data = data\n",
    "print me.reactions.a_to_b_FWD_complex_ab.reaction\n",
    "me.reactions.a_to_b_FWD_complex_ab.update()\n",
    "print me.reactions.a_to_b_FWD_complex_ab.reaction, '\\n'\n",
    "\n",
    "me.reactions.a_to_b_REV_complex_ab.complex_data = data\n",
    "print me.reactions.a_to_b_REV_complex_ab.reaction\n",
    "me.reactions.a_to_b_REV_complex_ab.update()\n",
    "print me.reactions.a_to_b_REV_complex_ab.reaction"
   ]
  },
  {
   "cell_type": "markdown",
   "metadata": {},
   "source": [
    "The coefficient for complex_ab is determined by the expression $$\\frac{\\mu}{k_{eff}}$$ which in its entirety represents the dilution of an enzyme following a cell doubling. The coupling constraint can be summarized as followed\n",
    "$$ \n",
    "\\begin{align}\n",
    "&v_{dilution,j} = \\mu \\sum_{i} \\left( \\frac{1}{k_{eff,i}} v_{usage,i} \\right), & \\forall j \\in Enzyme\n",
    "\\end{align}\n",
    "$$\n",
    "\n",
    "Where $v_{usage,i}$ is the flux through the metabolic reaction, $\\mu$ is the growth rate of the cell, and $k_{eff}$ is the turnover rate for the process and conveys the productivity of the enzyme complex. Physically, it can be thought of as the number of reactions the enzyme can catalyze per cell division. \n",
    "\n",
    "\n",
    "By default the $k_{eff}$ for a MetabolicReaction is set to 65 but this can be changed using the code below."
   ]
  },
  {
   "cell_type": "code",
   "execution_count": 11,
   "metadata": {
    "collapsed": false,
    "scrolled": true
   },
   "outputs": [
    {
     "name": "stdout",
     "output_type": "stream",
     "text": [
      "a + 2.77777777777778e-7*mu complex_ba --> b\n",
      "b + 4.27350427350427e-6*mu complex_ba --> a\n"
     ]
    }
   ],
   "source": [
    "me.reactions.a_to_b_FWD_complex_ab.keff = 1000\n",
    "me.reactions.a_to_b_FWD_complex_ab.update()\n",
    "\n",
    "# The forward and reverse direction can have differing keffs\n",
    "print me.reactions.a_to_b_FWD_complex_ab.reaction\n",
    "print me.reactions.a_to_b_REV_complex_ab.reaction"
   ]
  },
  {
   "cell_type": "markdown",
   "metadata": {},
   "source": [
    "## With building functions"
   ]
  },
  {
   "cell_type": "code",
   "execution_count": 12,
   "metadata": {
    "collapsed": false
   },
   "outputs": [
    {
     "name": "stdout",
     "output_type": "stream",
     "text": [
      "Created <Metabolite c at 0x7f7436aca650> in <MetabolicReaction b_to_c_FWD_complex_ab at 0x7f743583f4d0>\n",
      "b + 4.27350427350427e-6*mu complex_ab --> c\n"
     ]
    }
   ],
   "source": [
    "stoich_data = cobrame.StoichiometricData('b_to_c', me)\n",
    "stoich_data._stoichiometry = {'b': -1, 'c': 1}\n",
    "stoich_data.lower_bound = 0\n",
    "stoich_data.upper_bound = 1000.\n",
    "building.add_metabolic_reaction_to_model(me, stoich_data.id, 'forward', complex_id='complex_ab', update=True)\n",
    "print me.reactions.b_to_c_FWD_complex_ab.reaction"
   ]
  },
  {
   "cell_type": "markdown",
   "metadata": {},
   "source": [
    "## Add transcription and translation reactions\n"
   ]
  },
  {
   "cell_type": "code",
   "execution_count": 12,
   "metadata": {
    "collapsed": false
   },
   "outputs": [],
   "source": [
    "sequence = (\"ATG\" + \"TTT\" * 12 + \"TAT\" * 12 + \n",
    "            \"ACG\" * 12 + \"GAT\" * 12 + \"AGT\" * 12 + \"TGA\")\n",
    "RNA_a = cobrame.TranscribedGene('RNA_a')\n",
    "me.add_metabolites(RNA_a)\n",
    "RNA_a.nucleotide_sequence = sequence"
   ]
  },
  {
   "cell_type": "markdown",
   "metadata": {},
   "source": [
    "### Add the TranslationData for protein_a and protein_b\n",
    "In order to add a TranslationData object to a ME model the user must additionally specifify the mRNA id and protein id of the translation reaction that will be added. This information as well as a nucleotide sequence is the only information required to add a translation reaction."
   ]
  },
  {
   "cell_type": "code",
   "execution_count": 13,
   "metadata": {
    "collapsed": false
   },
   "outputs": [],
   "source": [
    "data = cobrame.TranslationData('a', me, 'RNA_a', 'protein_a')\n",
    "data.nucleotide_sequence = sequence"
   ]
  },
  {
   "cell_type": "markdown",
   "metadata": {},
   "source": [
    "### Add the TranslationReaction for protein_a and protein_b\n",
    "By associating the TranslationReaction with its corresponding TranslationData object and running the update function, COBRAme will create a reaction reaction for the nucleotide sequence given based on the organisms codon table and prespecified translation machinery."
   ]
  },
  {
   "cell_type": "code",
   "execution_count": 14,
   "metadata": {
    "collapsed": false
   },
   "outputs": [
    {
     "name": "stdout",
     "output_type": "stream",
     "text": [
      "0.000498399634202103*mu + 0.000195123456790123 RNA_a + 12 asp__L_c + met__L_c + 12 phe__L_c + 12 ser__L_c + 12 thr__L_c + 12 tyr__L_c --> protein_a + 7.500606 protein_biomass\n"
     ]
    }
   ],
   "source": [
    "rxn = cobrame.TranslationReaction('translation_a')\n",
    "rxn.translation_data = data\n",
    "me.add_reaction(rxn)\n",
    "rxn.update()\n",
    "print rxn.reaction"
   ]
  },
  {
   "cell_type": "markdown",
   "metadata": {},
   "source": [
    "This reaction also produces a small amount of the a $biomass$ metabolite (constraint). This term has a coefficient corresponding to the molecular weight (in $kDA$) of the protein being translated. This constraint will be implemented into a $v_{biomasss\\_dilution}$ reaction with the form: \n",
    "$$\\mu \\leq v_{biomass\\_dilution} \\leq \\mu $$\n",
    "\n",
    "A mathematical description of the biomass constraint can be found....\n",
    "\n",
    "The coefficient for RNA_a represents \n",
    "$$\n",
    "\\begin{align}\n",
    "& v_{dilution,j} \\geq \\frac{3}{\\kappa_{\\tau} c_{mRNA}} \\cdot (\\mu + \\kappa_{\\tau} r_0) v_{translation,j}  , & \\forall j \\in mRNA \\\\\n",
    "\\end{align}\n",
    "$$\n",
    "where:$\\dots$"
   ]
  },
  {
   "cell_type": "markdown",
   "metadata": {},
   "source": [
    "## Add tRNA charging reaction\n",
    "The above reaction is not a complete picture of translation considering that it's missing two important features:\n",
    "1. amino acid addition by tRNAs\n",
    "2. ribosome\n",
    "\n",
    "### Add in the tRNAData and tRNAChargingReaction"
   ]
  },
  {
   "cell_type": "code",
   "execution_count": 15,
   "metadata": {
    "collapsed": false
   },
   "outputs": [],
   "source": [
    "data = cobrame.tRNAData('tRNA_d_GUA', me, 'val__L_c', 'RNA_d', 'GUA')"
   ]
  },
  {
   "cell_type": "code",
   "execution_count": 16,
   "metadata": {
    "collapsed": false
   },
   "outputs": [
    {
     "name": "stdout",
     "output_type": "stream",
     "text": [
      "0.000116266666666667*mu + 4.55184e-5 RNA_d + 0.000116266666666667*mu + 4.55184e-5 val__L_c --> generic_tRNA_GUA_val__L_c\n"
     ]
    }
   ],
   "source": [
    "rxn = cobrame.tRNAChargingReaction('charging_tRNA_d_GUA')\n",
    "me.add_reaction(rxn)\n",
    "rxn.tRNAData = data\n",
    "\n",
    "#Setting verbose=False suppresses print statements indicating that new metabolites were created\n",
    "rxn.update(verbose=False)\n",
    "print rxn.reaction"
   ]
  },
  {
   "cell_type": "markdown",
   "metadata": {},
   "source": [
    "This reaction creates one \"generic_charged_tRNA\" equivalement that can then be used in a translation reaction\n",
    "\n",
    "The coefficient for ```RNA_d``` and ```lys__L_c``` are defined by:\n",
    "\n",
    "$$\n",
    "\\begin{align}\n",
    "v_{dilution,j} \\geq \\frac{1}{\\kappa_{\\tau} c_{tRNA,j}} (\\mu + \\kappa_{\\tau} r_0)  v_{charging,j} , & \\forall j \\in tRNA\n",
    "\\end{align}\n",
    "$$"
   ]
  },
  {
   "cell_type": "code",
   "execution_count": 17,
   "metadata": {
    "collapsed": false
   },
   "outputs": [
    {
     "name": "stdout",
     "output_type": "stream",
     "text": [
      "0.000116266666666667*mu + 4.55184e-5 RNA_d + 4.27350427350427e-6*mu*(0.000116266666666667*mu + 1.0000455184) synthetase + 0.000116266666666667*mu + 4.55184e-5 val__L_c --> generic_tRNA_GUA_val__L_c\n"
     ]
    }
   ],
   "source": [
    "data.synthetase = 'synthetase'\n",
    "rxn.update(verbose=False)\n",
    "print rxn.reaction"
   ]
  },
  {
   "cell_type": "markdown",
   "metadata": {},
   "source": [
    "A more complete mathematical description of the tRNA synthetase coupling constraints can be found in the 'tRNA_mod.ipynb'"
   ]
  },
  {
   "cell_type": "markdown",
   "metadata": {},
   "source": [
    "### Add tRNAs to translation"
   ]
  },
  {
   "cell_type": "markdown",
   "metadata": {
    "collapsed": true
   },
   "source": [
    "Here we take advantage of an additional subclass of ProcessData, called a SubreactionData object. This class is used to lump together processeses that occur as a result of many individual reactions, including translation elongation, ribosome formation, tRNA charging, etc. Since each of these steps often involve an enzyme that requires its own dilution coupling, this process allows these processes to be lumped into one reaction while still enabling each subprocess to be modified.\n",
    "\n",
    "Below, we add the SubreactionData (excluding enzymes) for the addition of each amino acid using information from the E. coli codon table"
   ]
  },
  {
   "cell_type": "code",
   "execution_count": 18,
   "metadata": {
    "collapsed": true
   },
   "outputs": [],
   "source": [
    "data = cobrame.SubreactionData('val_addition_at_GUA', me)\n",
    "data.stoichiometry = {'generic_tRNA_GUA_val__L_c': -1,\n",
    "                      'gtp_c': -1, 'gdp_c': 1, 'h_c': 1,\n",
    "                      'pi_c': 1}\n",
    "data.enzyme = 'elongation_factor'"
   ]
  },
  {
   "cell_type": "code",
   "execution_count": 19,
   "metadata": {
    "collapsed": false
   },
   "outputs": [
    {
     "name": "stdout",
     "output_type": "stream",
     "text": [
      "0.000498399634202103*mu + 0.000195123456790123 RNA_a + 12 asp__L_c + met__L_c + 12 phe__L_c + 12 ser__L_c + 12 thr__L_c + 12 tyr__L_c --> protein_a + 7.500606 protein_biomass \n",
      "\n",
      "0.000498399634202103*mu + 0.000195123456790123 RNA_a + 12 asp__L_c + 2.13675213675214e-5*mu elongation_factor + 5.0 generic_tRNA_GUA_val__L_c + 5.0 gtp_c + met__L_c + 12 phe__L_c + 12 ser__L_c + 12 thr__L_c + 12 tyr__L_c --> 5.0 gdp_c + 5.00000000000000 h_c + 5.00000000000000 pi_c + protein_a + 7.500606 protein_biomass\n"
     ]
    }
   ],
   "source": [
    "me.translation_data.a.subreactions['val_addition_at_GUA'] = 5.\n",
    "print me.reactions.translation_a.reaction, '\\n'\n",
    "me.reactions.translation_a.update(verbose=False)\n",
    "print me.reactions.translation_a.reaction"
   ]
  },
  {
   "cell_type": "markdown",
   "metadata": {},
   "source": [
    "## Add transcription reaction (incomplete)"
   ]
  },
  {
   "cell_type": "code",
   "execution_count": 20,
   "metadata": {
    "collapsed": false,
    "scrolled": true
   },
   "outputs": [],
   "source": [
    "data = cobrame.TranscriptionData('TU_a',me,RNA_products={'RNA_a'})\n",
    "data.nucleotide_sequence = sequence"
   ]
  },
  {
   "cell_type": "code",
   "execution_count": 21,
   "metadata": {
    "collapsed": false
   },
   "outputs": [
    {
     "name": "stdout",
     "output_type": "stream",
     "text": [
      "86 atp_c + 38 ctp_c + 12 gtp_c + 186 h2o_c + 50 utp_c --> RNA_a + 186 h_c + 186 ppi_c\n"
     ]
    }
   ],
   "source": [
    "rxn = cobrame.TranscriptionReaction('transcription_TU_a')\n",
    "rxn.transcription_data = data\n",
    "me.add_reaction(rxn)\n",
    "rxn.update()\n",
    "print rxn.reaction"
   ]
  },
  {
   "cell_type": "code",
   "execution_count": 22,
   "metadata": {
    "collapsed": false
   },
   "outputs": [
    {
     "name": "stdout",
     "output_type": "stream",
     "text": [
      "86 atp_c + 38 ctp_c + 12 gtp_c + 186 h2o_c + 50 utp_c --> RNA_a + 186 h_c + 59.172286 mRNA_biomass + 186 ppi_c\n"
     ]
    }
   ],
   "source": [
    "# RNA type required to add the biomass constraint\n",
    "me.metabolites.RNA_a.RNA_type = 'mRNA'\n",
    "rxn.update()\n",
    "print rxn.reaction"
   ]
  },
  {
   "cell_type": "code",
   "execution_count": 23,
   "metadata": {
    "collapsed": false
   },
   "outputs": [
    {
     "name": "stdout",
     "output_type": "stream",
     "text": [
      "LP files will be saved in /tmp/tmpElx1mu\n",
      "mu   \tstatus\treset\ttime\titer\tobj\n",
      "\u001b[0;32m0.000\t+\u001b[0m\tFalse\t0.52\t3619\t0.98237751966\n",
      "\u001b[0;31m2.000\t-\u001b[0m\tFalse\t0.03\t78\t\n",
      "\u001b[0;31m1.000\t-\u001b[0m\tFalse\t0.01\t18\t\n",
      "\u001b[0;31m0.500\t-\u001b[0m\tFalse\t0.01\t20\t\n",
      "\u001b[0;31m0.250\t-\u001b[0m\tFalse\t0.01\t20\t\n",
      "\u001b[0;31m0.125\t-\u001b[0m\tFalse\t0.02\t19\t\n",
      "\u001b[0;31m0.062\t-\u001b[0m\tFalse\t0.01\t10\t\n",
      "\u001b[0;31m0.031\t-\u001b[0m\tFalse\t0.01\t10\t\n",
      "\u001b[0;31m0.016\t-\u001b[0m\tFalse\t0.01\t10\t\n",
      "\u001b[0;31m0.008\t-\u001b[0m\tFalse\t0.01\t10\t\n",
      "\u001b[0;32m0.000\t+\u001b[0m\tFalse\t0.01\t0\t0.98237751966\n",
      "completed in 1.3 seconds and 11 iterations\n"
     ]
    },
    {
     "data": {
      "text/plain": [
       "<Solution 0.00 at 0x7fc0005ddb90>"
      ]
     },
     "execution_count": 23,
     "metadata": {},
     "output_type": "execute_result"
    }
   ],
   "source": [
    "from cobrame.solve.algorithms import binary_search\n",
    "for m in ['a', 'b']:\n",
    "    r = cobrame.Reaction('source_'+ m)\n",
    "    me.add_reaction(r)\n",
    "    stoich = -1 if m == 'a' else 1\n",
    "    r.add_metabolites({m: stoich})\n",
    "    \n",
    "binary_search(me, mu_accuracy=1e-2)"
   ]
  },
  {
   "cell_type": "code",
   "execution_count": 36,
   "metadata": {
    "collapsed": false
   },
   "outputs": [
    {
     "data": {
      "text/plain": [
       "1000.0"
      ]
     },
     "execution_count": 36,
     "metadata": {},
     "output_type": "execute_result"
    }
   ],
   "source": [
    "me.reactions.source_b.upper_bound"
   ]
  },
  {
   "cell_type": "markdown",
   "metadata": {
    "collapsed": true
   },
   "source": [
    "## Alternatively, using COBRAme utility functions (incomplete)\n",
    "\n",
    "COBRAme includes a set of utility functions contained in *building* that simplifies model buidling and imposes the best practices that we suggest."
   ]
  },
  {
   "cell_type": "code",
   "execution_count": null,
   "metadata": {
    "collapsed": true
   },
   "outputs": [],
   "source": []
  },
  {
   "cell_type": "code",
   "execution_count": 25,
   "metadata": {
    "collapsed": true
   },
   "outputs": [],
   "source": [
    "from cobrame.util import building"
   ]
  },
  {
   "cell_type": "code",
   "execution_count": 26,
   "metadata": {
    "collapsed": false
   },
   "outputs": [
    {
     "data": {
      "text/plain": [
       "<TranscribedGene RNA_c at 0x7fbfffd69390>"
      ]
     },
     "execution_count": 26,
     "metadata": {},
     "output_type": "execute_result"
    }
   ],
   "source": [
    "\n",
    "building.create_transcribed_gene(me, 'c', 1, 2, sequence, '+', 'mRNA')"
   ]
  },
  {
   "cell_type": "code",
   "execution_count": 27,
   "metadata": {
    "collapsed": false
   },
   "outputs": [
    {
     "data": {
      "text/plain": [
       "<TranscriptionReaction transcription_TU_c at 0x7fbfffd69490>"
      ]
     },
     "execution_count": 27,
     "metadata": {},
     "output_type": "execute_result"
    }
   ],
   "source": [
    "building.add_transcription_reaction(me, 'TU_c', {'c'}, sequence)"
   ]
  },
  {
   "cell_type": "code",
   "execution_count": 28,
   "metadata": {
    "collapsed": false
   },
   "outputs": [
    {
     "name": "stdout",
     "output_type": "stream",
     "text": [
      "86 atp_c + 38 ctp_c + 12 gtp_c + 186 h2o_c + 50 utp_c --> RNA_c + 186 h_c + 59.172286 mRNA_biomass + 186 ppi_c\n"
     ]
    }
   ],
   "source": [
    "print me.reactions.transcription_TU_c.reaction"
   ]
  },
  {
   "cell_type": "code",
   "execution_count": 29,
   "metadata": {
    "collapsed": false
   },
   "outputs": [
    {
     "name": "stdout",
     "output_type": "stream",
     "text": [
      "0.000498399634202103*mu + 0.000195123456790123 RNA_c + 12 asp__L_c + met__L_c + 12 phe__L_c + 12 ser__L_c + 12 thr__L_c + 12 tyr__L_c --> 7.500606 protein_biomass + protein_c\n"
     ]
    }
   ],
   "source": [
    "building.add_translation_reaction(me, 'c', dna_sequence=sequence, update=True)\n",
    "print me.reactions.translation_c.reaction"
   ]
  },
  {
   "cell_type": "code",
   "execution_count": null,
   "metadata": {
    "collapsed": true
   },
   "outputs": [],
   "source": []
  }
 ],
 "metadata": {
  "kernelspec": {
   "display_name": "Python 2",
   "language": "python",
   "name": "python2"
  },
  "language_info": {
   "codemirror_mode": {
    "name": "ipython",
    "version": 2
   },
   "file_extension": ".py",
   "mimetype": "text/x-python",
   "name": "python",
   "nbconvert_exporter": "python",
   "pygments_lexer": "ipython2",
   "version": "2.7.6"
  }
 },
 "nbformat": 4,
 "nbformat_minor": 0
}
