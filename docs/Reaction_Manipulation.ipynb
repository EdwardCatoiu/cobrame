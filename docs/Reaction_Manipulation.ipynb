{
 "cells": [
  {
   "cell_type": "markdown",
   "metadata": {},
   "source": [
    "# Reaction Manipulations"
   ]
  },
  {
   "cell_type": "markdown",
   "metadata": {},
   "source": [
    "The division of the ME-model into MEReaction and ProcessData classes allows the user to essentially have access to the entire database of information used to construct the model. The following will show how this can be leveraged to easily query, edit and update aspects of the model reactions."
   ]
  },
  {
   "cell_type": "code",
   "execution_count": 1,
   "metadata": {
    "collapsed": true
   },
   "outputs": [],
   "source": [
    "import cobrame\n",
    "import cPickle\n",
    "from collections import defaultdict"
   ]
  },
  {
   "cell_type": "code",
   "execution_count": 2,
   "metadata": {
    "collapsed": false
   },
   "outputs": [],
   "source": [
    "with open('/home/sbrg-cjlloyd/ecolime/prototype_notebooks/prototype_67.pickle') as f:\n",
    "    me = cPickle.load(f)"
   ]
  },
  {
   "cell_type": "markdown",
   "metadata": {},
   "source": [
    "## Metabolic Reactions"
   ]
  },
  {
   "cell_type": "code",
   "execution_count": 3,
   "metadata": {
    "collapsed": false
   },
   "outputs": [
    {
     "name": "stdout",
     "output_type": "stream",
     "text": [
      "number of metabolic reactions = 5285\n"
     ]
    }
   ],
   "source": [
    "print('number of metabolic reactions = %i' % \n",
    "      len([r.id for r in me.reactions if type(r) == cobrame.MetabolicReaction]))"
   ]
  },
  {
   "cell_type": "markdown",
   "metadata": {},
   "source": [
    "Through a MetabolicReaction, the user has direct access to the StoichiometricData, ComplexData and keff used to construct the reaction."
   ]
  },
  {
   "cell_type": "code",
   "execution_count": 4,
   "metadata": {
    "collapsed": false,
    "scrolled": true
   },
   "outputs": [
    {
     "name": "stdout",
     "output_type": "stream",
     "text": [
      "3.20942472231275e-6*mu GAPDH-A-CPLX + e4p_c + h2o_c + nad_c --> 4per_c + 2.0 h_c + nadh_c\n",
      "\n",
      "This reactions is formed using the StoichiometricData (E4PD) and ComplexData (GAPDH-A-CPLX) with keff = 86.55\n"
     ]
    }
   ],
   "source": [
    "rxn = me.reactions.get_by_id('E4PD_FWD_GAPDH-A-CPLX')\n",
    "stoich_data = rxn.stoichiometric_data\n",
    "complex_data = rxn.complex_data\n",
    "\n",
    "print(rxn.reaction + '\\n')\n",
    "print('This reactions is formed using the StoichiometricData (%s) and ComplexData (%s) with keff = %.2f' % \n",
    "      (stoich_data.id, complex_data.id, rxn.keff))"
   ]
  },
  {
   "cell_type": "markdown",
   "metadata": {},
   "source": [
    "As a best practice, the ComplexData and StoichiometricData themselves should not be changed. If these need changed then a new MetabolicReaction should be created. \n",
    "\n",
    "### Edit keffs\n",
    "Further, the keff is an attribute of the MetabolicReaction itself and not of the ComplexData changing the ComplexData will not affect the form of the MetabolicReaction.\n",
    "\n"
   ]
  },
  {
   "cell_type": "code",
   "execution_count": 5,
   "metadata": {
    "collapsed": false
   },
   "outputs": [
    {
     "name": "stdout",
     "output_type": "stream",
     "text": [
      "keff = 86: \n",
      "\t3.20942472231275e-6*mu GAPDH-A-CPLX + e4p_c + h2o_c + nad_c --> 4per_c + 2.0 h_c + nadh_c\n",
      "keff = 65: \n",
      "\t4.27350427350427e-6*mu GAPDH-A-CPLX + e4p_c + h2o_c + nad_c --> 4per_c + 2.0 h_c + nadh_c\n"
     ]
    }
   ],
   "source": [
    "print('keff = %d: \\n\\t%s' % (rxn.keff, rxn.reaction))\n",
    "rxn.keff = 65.\n",
    "rxn.update()\n",
    "print('keff = %d: \\n\\t%s' % (rxn.keff, rxn.reaction))"
   ]
  },
  {
   "cell_type": "markdown",
   "metadata": {},
   "source": [
    "### Edit stoichiometry"
   ]
  },
  {
   "cell_type": "markdown",
   "metadata": {},
   "source": [
    "Aspects of the StoichiometricData, however, can be changed. This includes:\n",
    " - Reaction stoichiometry\n",
    " - Reaction upper & lower bounds\n",
    " \n",
    "Currently the stoichiometry is:"
   ]
  },
  {
   "cell_type": "code",
   "execution_count": 6,
   "metadata": {
    "collapsed": false,
    "scrolled": false
   },
   "outputs": [
    {
     "data": {
      "text/plain": [
       "{'4per_c': 1.0,\n",
       " 'e4p_c': -1.0,\n",
       " 'h2o_c': -1.0,\n",
       " 'h_c': 2.0,\n",
       " 'nad_c': -1.0,\n",
       " 'nadh_c': 1.0}"
      ]
     },
     "execution_count": 6,
     "metadata": {},
     "output_type": "execute_result"
    }
   ],
   "source": [
    "stoich_data.stoichiometry"
   ]
  },
  {
   "cell_type": "markdown",
   "metadata": {},
   "source": [
    "This can be updated to, for instance, translocate a hydrogen by performing the following"
   ]
  },
  {
   "cell_type": "code",
   "execution_count": 7,
   "metadata": {
    "collapsed": false
   },
   "outputs": [
    {
     "name": "stdout",
     "output_type": "stream",
     "text": [
      "E4PD_FWD_GAPDH-A-CPLX: \n",
      "\t4.27350427350427e-6*mu GAPDH-A-CPLX + e4p_c + h2o_c + h_c + nad_c --> 4per_c + h_p + nadh_c\n"
     ]
    }
   ],
   "source": [
    "stoich_data.stoichiometry['h_c'] = -1\n",
    "stoich_data.stoichiometry['h_p'] = 1\n",
    "rxn.update()\n",
    "print('%s: \\n\\t%s' % (rxn.id, rxn.reaction))"
   ]
  },
  {
   "cell_type": "markdown",
   "metadata": {},
   "source": [
    "This change can be usd to update both the forward and reverse reaction"
   ]
  },
  {
   "cell_type": "code",
   "execution_count": 8,
   "metadata": {
    "collapsed": false
   },
   "outputs": [
    {
     "name": "stdout",
     "output_type": "stream",
     "text": [
      "E4PD_REV_GAPDH-A-CPLX: \n",
      "\t4per_c + 3.20942472231275e-6*mu GAPDH-A-CPLX + h_p + nadh_c --> e4p_c + h2o_c + h_c + nad_c\n"
     ]
    }
   ],
   "source": [
    "rxn_rev = me.reactions.get_by_id(rxn.id.replace('FWD', 'REV'))\n",
    "rxn_rev.update()\n",
    "print('%s: \\n\\t%s' % (rxn_rev.id, rxn_rev.reaction))"
   ]
  },
  {
   "cell_type": "markdown",
   "metadata": {},
   "source": [
    "A simpler approach is to updated the parent reactions for StoichiometricData. This will update any instances of the reaction catalyzed by an isozyme."
   ]
  },
  {
   "cell_type": "code",
   "execution_count": 9,
   "metadata": {
    "collapsed": false
   },
   "outputs": [
    {
     "name": "stdout",
     "output_type": "stream",
     "text": [
      "E4PD_FWD_ERYTH4PDEHYDROG-CPLX: \n",
      "\t0.0135143204065698*mu ERYTH4PDEHYDROG-CPLX + e4p_c + h2o_c + 2.0 h_c + nad_c --> 4per_c + 2.0 h_p + nadh_c\n",
      "E4PD_FWD_GAPDH-A-CPLX: \n",
      "\t4.27350427350427e-6*mu GAPDH-A-CPLX + e4p_c + h2o_c + 2.0 h_c + nad_c --> 4per_c + 2.0 h_p + nadh_c\n",
      "E4PD_REV_ERYTH4PDEHYDROG-CPLX: \n",
      "\t4per_c + 3.09490345954754e-6*mu ERYTH4PDEHYDROG-CPLX + 2.0 h_p + nadh_c --> e4p_c + h2o_c + 2.0 h_c + nad_c\n",
      "E4PD_REV_GAPDH-A-CPLX: \n",
      "\t4per_c + 3.20942472231275e-6*mu GAPDH-A-CPLX + 2.0 h_p + nadh_c --> e4p_c + h2o_c + 2.0 h_c + nad_c\n"
     ]
    }
   ],
   "source": [
    "stoich_data.stoichiometry['h_c'] = -2\n",
    "stoich_data.stoichiometry['h_p'] = 2\n",
    "for r in stoich_data.parent_reactions:\n",
    "    r.update()\n",
    "    print('%s: \\n\\t%s' % (r.id, r.reaction))"
   ]
  },
  {
   "cell_type": "markdown",
   "metadata": {},
   "source": [
    "### Edit upper and lower reaction bounds\n",
    "The upper and lower bounds can be edited through the stoichiometric data and updated to the metabolic reaction\n",
    "\n",
    "**Important: do not change the upper and lower bounds of a MetabolicReaction directly. If this is done than the change will be overwritten when the update function is ran (shown below)**"
   ]
  },
  {
   "cell_type": "code",
   "execution_count": 10,
   "metadata": {
    "collapsed": false
   },
   "outputs": [
    {
     "name": "stdout",
     "output_type": "stream",
     "text": [
      "Lower bound = -1000\n",
      "Lower bound = 0\n"
     ]
    }
   ],
   "source": [
    "rxn.lower_bound = -1000\n",
    "print('Lower bound = %d' %rxn.lower_bound)\n",
    "rxn.update()\n",
    "print('Lower bound = %d' %rxn.lower_bound)"
   ]
  },
  {
   "cell_type": "markdown",
   "metadata": {},
   "source": [
    "Editing the reaction bounds of the StoichiometricData, however, will edit the bounds of the forward and reverse reaction, as well as any instances of the reaction catalyzed by isozymes "
   ]
  },
  {
   "cell_type": "code",
   "execution_count": 11,
   "metadata": {
    "collapsed": false
   },
   "outputs": [
    {
     "name": "stdout",
     "output_type": "stream",
     "text": [
      "Upper Bounds\n",
      "--------------------------------------\n",
      "Forward Before Update \n",
      "\tE4PD_FWD_ERYTH4PDEHYDROG-CPLX: 1000.0\n",
      "Forward After Update \n",
      "\tE4PD_FWD_ERYTH4PDEHYDROG-CPLX: 1000.0\n",
      "Forward Before Update \n",
      "\tE4PD_FWD_GAPDH-A-CPLX: 1000.0\n",
      "Forward After Update \n",
      "\tE4PD_FWD_GAPDH-A-CPLX: 1000.0\n",
      "Reverse Before Update \n",
      "\tE4PD_REV_ERYTH4PDEHYDROG-CPLX: 1000.0\n",
      "Reverse After Update \n",
      "\tE4PD_REV_ERYTH4PDEHYDROG-CPLX: 0\n",
      "Reverse Before Update \n",
      "\tE4PD_REV_GAPDH-A-CPLX: 1000.0\n",
      "Reverse After Update \n",
      "\tE4PD_REV_GAPDH-A-CPLX: 0\n"
     ]
    }
   ],
   "source": [
    "stoich_data.lower_bound\n",
    "stoich_data.lower_bound = 0.\n",
    "print('Upper Bounds\\n--------------------------------------')\n",
    "for r in stoich_data.parent_reactions:\n",
    "    direction = 'Forward' if r.reverse is False else 'Reverse'\n",
    "    print('%s Before Update \\n\\t%s: %s' % (direction, r.id, r.upper_bound))\n",
    "    r.update()\n",
    "    print('%s After Update \\n\\t%s: %s' % (direction, r.id, r.upper_bound))"
   ]
  },
  {
   "cell_type": "markdown",
   "metadata": {},
   "source": [
    "## Transcription Reactions"
   ]
  },
  {
   "cell_type": "code",
   "execution_count": 12,
   "metadata": {
    "collapsed": false
   },
   "outputs": [
    {
     "name": "stdout",
     "output_type": "stream",
     "text": [
      "number of transcription reactions = 1453\n",
      "number of transcription data objects = 1453\n"
     ]
    }
   ],
   "source": [
    "print('number of transcription reactions = %i' % \n",
    "      len([r.id for r in me.reactions if type(r) == cobrame.TranscriptionReaction]))\n",
    "print('number of transcription data objects = %i' %  len(me.transcription_data))"
   ]
  },
  {
   "cell_type": "markdown",
   "metadata": {},
   "source": [
    "Transciption occurs via operons contained within the organisms genome or transcription unit (TU). This means that often, a transcribed region will code for multiple RNAs. The E. coli ME-model has 4 possible RNA types that can be transcribed:\n",
    " - mRNA\n",
    " - tRNA\n",
    " - rRNA\n",
    " - ncRNA (noncoding RNA)\n",
    "\n",
    "mRNAs can then translated directly from the full transcribed TU, while rRNA, tRNA and ncRNA are spliced out of the TU by endonucleases. In these cases, in order to know which bases need excized, the RNA metabolites (TranscribedGene) themselves have to store information such as:\n",
    " - **DNA strand, left and right genome position** to identify which TU the RNA is a part of\n",
    " - **RNA type** to determine whether it needs excised from the TU\n",
    " - **nucleotide sequence** to determine bases that do/do not need excised if not mRNA and the RNA mass for biomass constraint\n",
    "\n",
    "An example of a TranscribedGene's attributes is shown below"
   ]
  },
  {
   "cell_type": "code",
   "execution_count": 13,
   "metadata": {
    "collapsed": false
   },
   "outputs": [
    {
     "name": "stdout",
     "output_type": "stream",
     "text": [
      "right_pos 3342691\n",
      "formula C6890H8542N2720O5817P726\n",
      "RNA_type mRNA\n",
      "left_pos 3341965\n",
      "nucleotide_sequence ATGGCAACATTAACTGCAAAGAACCTTGCAAAAGCCTATAAAGGCCGTCG...\n",
      "id RNA_b3201\n",
      "strand +\n"
     ]
    }
   ],
   "source": [
    "for key, value in me.metabolites.RNA_b3201.__dict__.items():\n",
    "    if not key.startswith('_') and value:\n",
    "        if type(value) is str and len(value) > 50:\n",
    "            value = value[:50] + '...'\n",
    "        print key, value"
   ]
  },
  {
   "cell_type": "markdown",
   "metadata": {},
   "source": [
    "Each TranscriptionReaction in a COBRAme ME-model is associated with exactly one TranscriptionData which includes everything necessary to define a reaction. This includes:\n",
    " - **subreactions** To handle enzymatic processes not performed by RNA polymerase\n",
    " - **RNA Polymerase** Different RNA polymerase metabolite for different sigma factors\n",
    " - **RNA Products** TUs often contain more than one RNA in sequence\n",
    " - **Nucleotide sequence**\n",
    "\n",
    "The TranscriptionData for TU containing the gene above is shown below"
   ]
  },
  {
   "cell_type": "code",
   "execution_count": 14,
   "metadata": {
    "collapsed": false
   },
   "outputs": [
    {
     "name": "stdout",
     "output_type": "stream",
     "text": [
      "subreactions defaultdict(<type 'int'>, {'Transcription_normal_rho_dependent': 1})\n",
      "rho_dependent True\n",
      "RNA_polymerase RNAPE-CPLX\n",
      "nucleotide_sequence ACAAACTCAGCCTTAATCTTGTGCTTGCCAGCTCACTTCTGGCCGCCAGC...\n",
      "RNA_products set(['RNA_b3201', 'RNA_b3202'])\n",
      "id TU_8398_from_RPOE_MONOMER\n"
     ]
    }
   ],
   "source": [
    "rxn = me.reactions.transcription_TU_8398_from_RPOE_MONOMER\n",
    "data = rxn.transcription_data\n",
    "for key, value in data.__dict__.items():\n",
    "    if not key.startswith('_') and value:\n",
    "        if type(value) is str and len(value) > 50:\n",
    "            value = value[:50] + '...'\n",
    "        print key, value"
   ]
  },
  {
   "cell_type": "markdown",
   "metadata": {},
   "source": [
    "This reaction currently uses a subreaction called *Transcription_normal_rho_dependent* to account for the elongation factors etc. associated with transcription. This TU also requires a rho factor to terminate transcription. These complexes can be removed from the reaction by running the following"
   ]
  },
  {
   "cell_type": "code",
   "execution_count": 15,
   "metadata": {
    "collapsed": false
   },
   "outputs": [
    {
     "name": "stdout",
     "output_type": "stream",
     "text": [
      "with subreactions: 4.27350427350427e-6*mu GreA_mono + 4.27350427350427e-6*mu GreB_mono + 4.27350427350427e-6*mu Mfd_mono_mod_1:mg2 + 4.27350427350427e-6*mu NusA_mono + 4.27350427350427e-6*mu NusG_mono + 0.0186826474945534*mu + 0.00731425649411765 RNAPE-CPLX + 4.27350427350427e-6*mu Rho_hexa_mod_3:mg2 + 4.27350427350427e-6*mu RpoZ_mono_mod_1:mg2 + 1020 atp_c + 1181 ctp_c + 1190 gtp_c + 4577 h2o_c + 1186 utp_c --> RNA_b3201 + RNA_b3202 + 3 adp_c + 4577 h_c + 691.702633 mRNA_biomass + 3 pi_c + 4574 ppi_c\n",
      "\n",
      "without subreactions: 0.0186826474945534*mu + 0.00731425649411765 RNAPE-CPLX + 1017 atp_c + 1181 ctp_c + 1190 gtp_c + 4574 h2o_c + 1186 utp_c --> RNA_b3201 + RNA_b3202 + 4574 h_c + 691.702633 mRNA_biomass + 4574 ppi_c\n"
     ]
    }
   ],
   "source": [
    "print('with subreactions: ' + rxn.reaction)\n",
    "data.subreactions = {}\n",
    "for r in data.parent_reactions:\n",
    "    r.update()\n",
    "print('\\nwithout subreactions: ' + rxn.reaction)"
   ]
  },
  {
   "cell_type": "markdown",
   "metadata": {},
   "source": [
    "This poses a problem where, if RNA_b3201 and RNA_b3202 are not required in equal amounts, the model will become infeasible. To accound for this, all RNAs have a demand reaction associated with them. *mRNA_biomass* is consumed for each demand reaction with a coefficient equal to the molecular weight of each RNA (in kDa). This prevents the model from overproducing RNA to increase biomass production, and therefore growth rate, in some instances. More on the implications of the *biomass* constraint can be found in **ME-Model Fundamentals**"
   ]
  },
  {
   "cell_type": "code",
   "execution_count": 16,
   "metadata": {
    "collapsed": false
   },
   "outputs": [
    {
     "name": "stdout",
     "output_type": "stream",
     "text": [
      "DM_RNA_b3201: RNA_b3201 + 232.671391 mRNA_biomass --> \n",
      "DM_RNA_b3202: RNA_b3202 + 459.031242 mRNA_biomass --> \n"
     ]
    }
   ],
   "source": [
    "for rna in data.RNA_products:\n",
    "    r = me.reactions.get_by_id('DM_' + rna)\n",
    "    print('%s: %s' % (r.id, r.reaction))"
   ]
  },
  {
   "cell_type": "markdown",
   "metadata": {},
   "source": [
    "As is, this reaction produces two mRNAs so no nucleotides are excised. If one or both is changed to a stable RNA (rRNA, tRNA or ncRNA) bases will be excised."
   ]
  },
  {
   "cell_type": "code",
   "execution_count": 17,
   "metadata": {
    "collapsed": false
   },
   "outputs": [
    {
     "name": "stdout",
     "output_type": "stream",
     "text": [
      "0.0186826474945534*mu + 0.00731425649411765 RNAPE-CPLX + 1017 atp_c + 1181 ctp_c + 1190 gtp_c + 4574 h2o_c + 1186 utp_c --> RNA_b3201 + RNA_b3202 + 557 amp_c + 605 cmp_c + 613 gmp_c + 4574 h_c + 232.671391 mRNA_biomass + 4575 ppi_c + 459.031242 rRNA_biomass + 639 ump_c\n"
     ]
    }
   ],
   "source": [
    "me.metabolites.RNA_b3202.RNA_type = 'rRNA'\n",
    "for r in data.parent_reactions:\n",
    "    r.update()\n",
    "    print(r.reaction)"
   ]
  },
  {
   "cell_type": "markdown",
   "metadata": {},
   "source": [
    "Changing RNA_b3202 to an rRNA and updating the transcription reaction causes both of the RNAs to now be excised from the TU, as indicated by the nucleotide monophosphates that appear in the products. This is not a complete picture because this process is catalyzes by an endonuclease, whose activity can be incorporated as ModificationData. Updating the reaction after adding these processes incorporates "
   ]
  },
  {
   "cell_type": "code",
   "execution_count": 20,
   "metadata": {
    "collapsed": false
   },
   "outputs": [
    {
     "name": "stdout",
     "output_type": "stream",
     "text": [
      "0.0186826474945534*mu + 0.00731425649411765 RNAPE-CPLX + 1.70940170940171e-5*mu RNA_degradosome + 1620.5 atp_c + 1181 ctp_c + 1190 gtp_c + 7595.5 h2o_c + 1.70940170940171e-5*mu rRNA_containing_excision_machinery + 1186 utp_c --> RNA_b3201 + RNA_b3202 + 603.5 adp_c + 557 amp_c + 605 cmp_c + 613 gmp_c + 7595.5 h_c + 232.671391 mRNA_biomass + 603.5 pi_c + 4575 ppi_c + 459.031242 rRNA_biomass + 639 ump_c\n"
     ]
    }
   ],
   "source": [
    "data.modifications['rRNA_containing_excision'] = len(data.RNA_products) * 2\n",
    "data.modifications['RNA_degradation_machine'] = len(data.RNA_products) * 2\n",
    "data.modifications['RNA_degradation_atp_requirement'] = sum(data.excised_bases.values())\n",
    "for r in data.parent_reactions:\n",
    "    r.update()\n",
    "    print(r.reaction)"
   ]
  },
  {
   "cell_type": "markdown",
   "metadata": {},
   "source": [
    "## Translation Reactions"
   ]
  },
  {
   "cell_type": "code",
   "execution_count": null,
   "metadata": {
    "collapsed": true
   },
   "outputs": [],
   "source": []
  },
  {
   "cell_type": "code",
   "execution_count": null,
   "metadata": {
    "collapsed": true
   },
   "outputs": [],
   "source": []
  }
 ],
 "metadata": {
  "kernelspec": {
   "display_name": "Python 2",
   "language": "python",
   "name": "python2"
  },
  "language_info": {
   "codemirror_mode": {
    "name": "ipython",
    "version": 2
   },
   "file_extension": ".py",
   "mimetype": "text/x-python",
   "name": "python",
   "nbconvert_exporter": "python",
   "pygments_lexer": "ipython2",
   "version": "2.7.6"
  }
 },
 "nbformat": 4,
 "nbformat_minor": 0
}
